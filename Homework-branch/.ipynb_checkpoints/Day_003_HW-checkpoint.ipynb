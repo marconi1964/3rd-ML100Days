{
 "cells": [
  {
   "cell_type": "markdown",
   "metadata": {},
   "source": [
    "## [作業目標]\n",
    "持續接觸有關機器學習的相關專案與最新技術"
   ]
  },
  {
   "cell_type": "markdown",
   "metadata": {},
   "source": [
    "## [作業重點]\n",
    "透過觀察頂尖公司的機器學習文章，來了解各公司是怎麼應用機器學習在實際的專案上"
   ]
  },
  {
   "cell_type": "markdown",
   "metadata": {},
   "source": [
    "## [作業]\n",
    "今天的作業希望大家能夠看看全球機器學習巨頭們在做的機器學習專案。以 google 為例，下圖是 Google 內部專案使用機器學習的數量，隨著時間進展，現在早已超過 2000 個專案在使用機器學習。"
   ]
  },
  {
   "cell_type": "markdown",
   "metadata": {},
   "source": [
    "![image](https://cdn-images-1.medium.com/max/800/1*U_L8qI8RmYS-MOBrYvXhSA.png)"
   ]
  },
  {
   "attachments": {},
   "cell_type": "markdown",
   "metadata": {},
   "source": [
    "底下幫同學整理幾間知名企業的 blog 或機器學習網站 (自行搜尋也可)，這些網站都會整理最新的機器學習專案或者是技術文章，請挑選一篇文章閱讀並試著回答\n",
    "1. 專案的目標？ (要解決什麼問題）\n",
    "\n",
    "Google\n",
    "Large-Scale Multilingual Speech Recognition with a Streaming End-to-End Model\n",
    "Monday, September 30, 2019\n",
    "Posted by Arindrima Datta and Anjuli Kannan, Software Engineers, Google Research\n",
    "\n",
    "https://ai.googleblog.com/2019/09/large-scale-multilingual-speech.html\n",
    "\n",
    "Google Assistant Google 助理需要大量的語音及文本資料來達到自動語音辨識 (ASR, Automatic Speech Reconigition), 尤其是機器學習的神經網路需要更大量的資料. 然而, 許多語言只有(相對)少數資料, e.g. 台語/中文正體字. Google 嘗試是否可以用少量的資料, 同樣可以達到高品質的辨識效果.\n",
    "從語音辨識社群的研究發現, 從大量語言資料推導出神經網路的“知識”可以適用於只有少數資料的語言. 讓 Google 研究關於單一模型應用於多種語音辨識及翻譯的應用.\n",
    "\n",
    "\n",
    "2. 使用的技術是？ (只需知道名稱即可，例如：使用 CNN 卷積神經網路做影像分類)\n",
    "\n",
    "使用 Recurrent Neural Network Transducer (RNN-T) 來達到串流的 E2E 端對端自動語音辨識(ASR).\n",
    "\n",
    "https://1.bp.blogspot.com/-RXmICn57Mho/XY6DfvKf0_I/AAAAAAAAErU/M-_q84tVs6M3mQceOuNMHMEqalBuuykLQCLcBGAsYHQ/s1600/image1.png\n",
    "\n",
    "3. 資料來源？ \n",
    "\n",
    "https://ai.googleblog.com/2019/09/large-scale-multilingual-speech.html\n"
   ]
  },
  {
   "cell_type": "markdown",
   "metadata": {},
   "source": [
    "- [Google AI blog](https://ai.googleblog.com/)\n",
    "- [Facebook Research blog](https://research.fb.com/blog/)\n",
    "- [Apple machine learning journal](https://machinelearning.apple.com/)\n",
    "- [機器之心](https://www.jiqizhixin.com/)\n",
    "- [雷鋒網](http://www.leiphone.com/category/ai)"
   ]
  }
 ],
 "metadata": {
  "kernelspec": {
   "display_name": "Python 3",
   "language": "python",
   "name": "python3"
  },
  "language_info": {
   "codemirror_mode": {
    "name": "ipython",
    "version": 3
   },
   "file_extension": ".py",
   "mimetype": "text/x-python",
   "name": "python",
   "nbconvert_exporter": "python",
   "pygments_lexer": "ipython3",
   "version": "3.7.1"
  }
 },
 "nbformat": 4,
 "nbformat_minor": 2
}
