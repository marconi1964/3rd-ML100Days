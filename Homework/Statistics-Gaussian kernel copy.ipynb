{
 "cells": [
  {
   "cell_type": "code",
   "execution_count": 1,
   "metadata": {},
   "outputs": [
    {
     "name": "stdout",
     "output_type": "stream",
     "text": [
      "。。。。。。   完成   。。。。。。\n"
     ]
    }
   ],
   "source": [
    "# -*- coding: utf-8 -*-\n",
    "\n",
    "import requests\n",
    "from io import StringIO\n",
    "import pandas as pd\n",
    "import numpy as np\n",
    "import csv\n",
    "import time\n",
    "import datetime\n",
    "import os.path\n",
    "import os\n",
    "import sys\n",
    "\n",
    "import matplotlib.pyplot as plt    # pip install matplotlib\n",
    "#%matplotlib inline  # check if necessary https://stackoverflow.com/questions/35595766/matplotlib-line-magic-causes-syntaxerror-in-python-script\n",
    "\n",
    "# 取得股價相關 import\n",
    "from pandas_datareader import data as pdr\n",
    "import fix_yahoo_finance as yf\n",
    "yf.pdr_override() # <== that's all it takes :-)\n",
    "\n",
    "# 讀取 internet 資料的 subroutines 儲存於 /Dropbox/StockPythonSource/modules/_python_stock_modules_201812.py \n",
    "from modules import _python_stock_modules_201812 as stock\n",
    "\n",
    "# 讀取最新所有股票上市櫃名單 (太常用了, 直接放在準備工作裡, 免得每個模組都需要特別執行一次)\n",
    "stock_list = stock.get_stock_lists()\n",
    "\n",
    "print('。。。。。。   完成   。。。。。。')\n",
    "\n",
    "try:\n",
    "    twse_r = pdr.get_data_yahoo('^TWII', start=start_date)\n",
    "except:\n",
    "    twse = 'NaN'\n"
   ]
  },
  {
   "cell_type": "code",
   "execution_count": 2,
   "metadata": {},
   "outputs": [
    {
     "name": "stdout",
     "output_type": "stream",
     "text": [
      "[*********************100%***********************]  1 of 1 downloaded\n"
     ]
    }
   ],
   "source": [
    "twse_r = pdr.get_data_yahoo('^TWII', start=\"2017-01-01\")"
   ]
  },
  {
   "cell_type": "code",
   "execution_count": 3,
   "metadata": {},
   "outputs": [
    {
     "data": {
      "text/html": [
       "<div>\n",
       "<style scoped>\n",
       "    .dataframe tbody tr th:only-of-type {\n",
       "        vertical-align: middle;\n",
       "    }\n",
       "\n",
       "    .dataframe tbody tr th {\n",
       "        vertical-align: top;\n",
       "    }\n",
       "\n",
       "    .dataframe thead th {\n",
       "        text-align: right;\n",
       "    }\n",
       "</style>\n",
       "<table border=\"1\" class=\"dataframe\">\n",
       "  <thead>\n",
       "    <tr style=\"text-align: right;\">\n",
       "      <th></th>\n",
       "      <th>Open</th>\n",
       "      <th>High</th>\n",
       "      <th>Low</th>\n",
       "      <th>Close</th>\n",
       "      <th>Adj Close</th>\n",
       "      <th>Volume</th>\n",
       "    </tr>\n",
       "    <tr>\n",
       "      <th>Date</th>\n",
       "      <th></th>\n",
       "      <th></th>\n",
       "      <th></th>\n",
       "      <th></th>\n",
       "      <th></th>\n",
       "      <th></th>\n",
       "    </tr>\n",
       "  </thead>\n",
       "  <tbody>\n",
       "    <tr>\n",
       "      <th>2019-01-14</th>\n",
       "      <td>9737.669922</td>\n",
       "      <td>9762.370117</td>\n",
       "      <td>9677.490234</td>\n",
       "      <td>9708.219727</td>\n",
       "      <td>9708.219727</td>\n",
       "      <td>1315303500</td>\n",
       "    </tr>\n",
       "    <tr>\n",
       "      <th>2019-01-15</th>\n",
       "      <td>9701.929688</td>\n",
       "      <td>9806.040039</td>\n",
       "      <td>9701.929688</td>\n",
       "      <td>9806.040039</td>\n",
       "      <td>9806.040039</td>\n",
       "      <td>1658168400</td>\n",
       "    </tr>\n",
       "    <tr>\n",
       "      <th>2019-01-16</th>\n",
       "      <td>9781.349609</td>\n",
       "      <td>9803.990234</td>\n",
       "      <td>9763.809570</td>\n",
       "      <td>9763.809570</td>\n",
       "      <td>9763.809570</td>\n",
       "      <td>1742934800</td>\n",
       "    </tr>\n",
       "    <tr>\n",
       "      <th>2019-01-17</th>\n",
       "      <td>9773.309570</td>\n",
       "      <td>9826.250000</td>\n",
       "      <td>9759.509766</td>\n",
       "      <td>9789.150391</td>\n",
       "      <td>9789.150391</td>\n",
       "      <td>1585156500</td>\n",
       "    </tr>\n",
       "    <tr>\n",
       "      <th>2019-01-18</th>\n",
       "      <td>9781.389648</td>\n",
       "      <td>9842.799805</td>\n",
       "      <td>9771.150391</td>\n",
       "      <td>9836.059570</td>\n",
       "      <td>9836.059570</td>\n",
       "      <td>1499273700</td>\n",
       "    </tr>\n",
       "  </tbody>\n",
       "</table>\n",
       "</div>"
      ],
      "text/plain": [
       "                   Open         High          Low        Close    Adj Close  \\\n",
       "Date                                                                          \n",
       "2019-01-14  9737.669922  9762.370117  9677.490234  9708.219727  9708.219727   \n",
       "2019-01-15  9701.929688  9806.040039  9701.929688  9806.040039  9806.040039   \n",
       "2019-01-16  9781.349609  9803.990234  9763.809570  9763.809570  9763.809570   \n",
       "2019-01-17  9773.309570  9826.250000  9759.509766  9789.150391  9789.150391   \n",
       "2019-01-18  9781.389648  9842.799805  9771.150391  9836.059570  9836.059570   \n",
       "\n",
       "                Volume  \n",
       "Date                    \n",
       "2019-01-14  1315303500  \n",
       "2019-01-15  1658168400  \n",
       "2019-01-16  1742934800  \n",
       "2019-01-17  1585156500  \n",
       "2019-01-18  1499273700  "
      ]
     },
     "execution_count": 3,
     "metadata": {},
     "output_type": "execute_result"
    }
   ],
   "source": [
    "twse_r.tail()"
   ]
  },
  {
   "cell_type": "code",
   "execution_count": 53,
   "metadata": {},
   "outputs": [
    {
     "data": {
      "text/plain": [
       "Date\n",
       "2017-11-30   -153.109375\n",
       "2017-12-06   -172.929687\n",
       "2018-02-05   -179.980469\n",
       "2018-02-06   -542.250000\n",
       "2018-02-09   -156.769531\n",
       "2018-03-23   -182.509766\n",
       "2018-04-20   -191.839844\n",
       "2018-06-14   -159.229492\n",
       "2018-06-19   -183.279297\n",
       "2018-08-02   -168.360352\n",
       "2018-08-13   -234.759766\n",
       "2018-10-05   -201.790039\n",
       "2018-10-11   -660.719726\n",
       "2018-10-23   -199.080078\n",
       "2018-10-25   -238.610352\n",
       "2018-12-05   -166.799805\n",
       "2018-12-06   -232.020507\n",
       "2019-01-02   -173.270508\n",
       "Name: Close, dtype: float64"
      ]
     },
     "execution_count": 53,
     "metadata": {},
     "output_type": "execute_result"
    }
   ],
   "source": [
    "twse = twse_r.iloc[:,3]\n",
    "delta = twse.diff()\n",
    "delta[delta < -150]"
   ]
  },
  {
   "cell_type": "code",
   "execution_count": 58,
   "metadata": {},
   "outputs": [
    {
     "data": {
      "text/plain": [
       "count    245.000000\n",
       "mean      -3.736531\n",
       "std      103.534906\n",
       "min     -660.719726\n",
       "25%      -48.099610\n",
       "50%        2.669921\n",
       "75%       59.500000\n",
       "max      293.350586\n",
       "Name: Close, dtype: float64"
      ]
     },
     "execution_count": 58,
     "metadata": {},
     "output_type": "execute_result"
    }
   ],
   "source": [
    "delta['2018'].describe()"
   ]
  },
  {
   "cell_type": "code",
   "execution_count": 59,
   "metadata": {},
   "outputs": [
    {
     "data": {
      "text/plain": [
       "count    242.000000\n",
       "mean       5.661076\n",
       "std       55.135387\n",
       "min     -172.929687\n",
       "25%      -26.009765\n",
       "50%        8.270019\n",
       "75%       46.207763\n",
       "max      137.960938\n",
       "Name: Close, dtype: float64"
      ]
     },
     "execution_count": 59,
     "metadata": {},
     "output_type": "execute_result"
    }
   ],
   "source": [
    "delta['2017'].describe()"
   ]
  },
  {
   "cell_type": "code",
   "execution_count": null,
   "metadata": {},
   "outputs": [],
   "source": []
  },
  {
   "cell_type": "code",
   "execution_count": null,
   "metadata": {},
   "outputs": [],
   "source": []
  },
  {
   "cell_type": "code",
   "execution_count": null,
   "metadata": {},
   "outputs": [],
   "source": []
  },
  {
   "cell_type": "code",
   "execution_count": null,
   "metadata": {},
   "outputs": [],
   "source": []
  },
  {
   "cell_type": "code",
   "execution_count": null,
   "metadata": {},
   "outputs": [],
   "source": []
  },
  {
   "cell_type": "code",
   "execution_count": null,
   "metadata": {},
   "outputs": [],
   "source": []
  },
  {
   "cell_type": "code",
   "execution_count": null,
   "metadata": {},
   "outputs": [],
   "source": []
  },
  {
   "cell_type": "code",
   "execution_count": 5,
   "metadata": {},
   "outputs": [],
   "source": [
    "delta = delta[1:]"
   ]
  },
  {
   "cell_type": "code",
   "execution_count": 6,
   "metadata": {},
   "outputs": [
    {
     "data": {
      "text/plain": [
       "count    500.000000\n",
       "mean       1.126359\n",
       "std       83.721809\n",
       "min     -660.719726\n",
       "25%      -38.235107\n",
       "50%        6.384766\n",
       "75%       49.709717\n",
       "max      293.350586\n",
       "Name: Close, dtype: float64"
      ]
     },
     "execution_count": 6,
     "metadata": {},
     "output_type": "execute_result"
    }
   ],
   "source": [
    "delta.describe()"
   ]
  },
  {
   "cell_type": "code",
   "execution_count": 12,
   "metadata": {},
   "outputs": [
    {
     "data": {
      "text/plain": [
       "(array([0., 0., 0., 0., 0., 0., 0., 0., 0., 0., 0., 0., 0., 0., 0., 0., 0.,\n",
       "        0., 0., 0., 0., 0., 0., 0., 0., 0., 0., 0., 0., 0., 0., 0., 0., 0.,\n",
       "        0., 0., 0., 0., 0., 1., 0., 0., 0., 0., 0., 0., 0., 0., 0., 0., 0.,\n",
       "        0., 0., 0., 0., 0., 0., 0., 0., 0., 0., 0., 0., 0., 0., 0., 0., 0.,\n",
       "        0., 0., 0., 0., 0., 0., 0., 0., 0., 0., 0., 0., 0., 0., 0., 0., 0.,\n",
       "        0., 0., 0., 0., 0., 0., 0., 0., 0., 0., 0., 0., 0., 0., 0., 0., 0.,\n",
       "        0., 0., 0., 0., 0., 0., 0., 0., 0., 0., 0., 0., 0., 0., 0., 0., 0.,\n",
       "        0., 0., 0., 0., 0., 0., 0., 0., 0., 0., 0., 0., 0., 0., 0., 0., 0.,\n",
       "        0., 0., 0., 0., 0., 0., 0., 0., 0., 0., 0., 0., 0., 0., 0., 0., 0.,\n",
       "        0., 0., 0., 0., 1., 0., 0., 0., 0., 0., 0., 0., 0., 0., 0., 0., 0.,\n",
       "        0., 0., 0., 0., 0., 0., 0., 0., 0., 0., 0., 0., 0., 0., 0., 0., 0.,\n",
       "        0., 0., 0., 0., 0., 0., 0., 0., 0., 0., 0., 0., 0., 0., 0., 0., 0.,\n",
       "        0., 0., 0., 0., 0., 0., 0., 0., 0., 0., 0., 0., 0., 0., 0., 0., 0.,\n",
       "        0., 0., 0., 0., 0., 0., 0., 0., 0., 0., 0., 0., 0., 0., 0., 0., 0.,\n",
       "        0., 0., 0., 0., 0., 0., 0., 0., 0., 0., 0., 0., 0., 0., 0., 0., 0.,\n",
       "        0., 0., 0., 0., 0., 0., 0., 0., 0., 0., 0., 0., 0., 0., 0., 0., 0.,\n",
       "        0., 0., 0., 0., 0., 0., 0., 0., 0., 0., 0., 0., 0., 0., 0., 0., 0.,\n",
       "        0., 0., 0., 0., 0., 0., 0., 0., 0., 0., 0., 0., 0., 0., 0., 0., 0.,\n",
       "        0., 0., 0., 0., 0., 0., 0., 0., 0., 0., 0., 0., 0., 0., 0., 0., 0.,\n",
       "        0., 0., 0., 0., 0., 0., 0., 0., 0., 0., 0., 0., 0., 0., 0., 0., 0.,\n",
       "        0., 0., 0., 0., 0., 0., 0., 0., 0., 0., 0., 0., 0., 0., 0., 0., 0.,\n",
       "        0., 0., 0., 0., 0., 0., 0., 0., 0., 0., 0., 0., 0., 0., 0., 0., 0.,\n",
       "        0., 0., 0., 0., 0., 0., 0., 0., 0., 0., 0., 0., 0., 0., 0., 0., 0.,\n",
       "        0., 0., 0., 0., 0., 0., 0., 0., 0., 0., 0., 0., 0., 0., 0., 0., 0.,\n",
       "        0., 0., 0., 0., 0., 0., 0., 0., 0., 0., 0., 0., 0., 0., 0., 0., 0.,\n",
       "        0., 0., 0., 0., 0., 0., 0., 0., 0., 0., 0., 0., 0., 0., 0., 0., 0.,\n",
       "        0., 0., 0., 0., 0., 0., 0., 0., 0., 0., 0., 0., 0., 0., 0., 0., 0.,\n",
       "        0., 0., 1., 0., 0., 0., 1., 0., 1., 0., 0., 0., 0., 0., 0., 0., 0.,\n",
       "        0., 0., 0., 0., 0., 0., 0., 0., 0., 0., 0., 0., 0., 0., 0., 0., 0.,\n",
       "        0., 0., 0., 0., 0., 1., 0., 1., 0., 0., 0., 0., 0., 0., 0., 1., 0.,\n",
       "        0., 0., 0., 0., 0., 0., 1., 1., 0., 0., 1., 0., 0., 0., 0., 0., 1.,\n",
       "        1., 0., 0., 0., 1., 0., 1., 0., 0., 0., 0., 0., 0., 1., 0., 0., 1.,\n",
       "        0., 0., 1., 0., 0., 0., 0., 0., 0., 0., 2., 2., 0., 1., 0., 1., 0.,\n",
       "        0., 0., 0., 0., 0., 0., 1., 0., 0., 0., 1., 0., 0., 0., 0., 0., 0.,\n",
       "        3., 0., 0., 0., 1., 0., 1., 0., 2., 2., 0., 1., 1., 1., 1., 1., 0.,\n",
       "        2., 2., 0., 0., 2., 1., 1., 0., 0., 1., 1., 0., 0., 0., 0., 1., 0.,\n",
       "        1., 1., 1., 3., 1., 1., 0., 1., 0., 1., 3., 0., 2., 0., 0., 0., 1.,\n",
       "        2., 1., 2., 1., 1., 1., 1., 1., 2., 3., 0., 0., 1., 0., 3., 5., 1.,\n",
       "        1., 2., 3., 1., 2., 3., 3., 2., 0., 4., 2., 2., 2., 1., 4., 2., 2.,\n",
       "        4., 0., 2., 0., 1., 3., 2., 8., 1., 3., 6., 3., 2., 3., 0., 6., 4.,\n",
       "        2., 4., 4., 3., 3., 4., 0., 1., 2., 3., 3., 1., 4., 3., 4., 2., 3.,\n",
       "        3., 2., 4., 2., 3., 2., 2., 5., 3., 5., 2., 4., 5., 5., 3., 5., 6.,\n",
       "        8., 5., 4., 2., 2., 2., 1., 1., 1., 4., 2., 2., 4., 3., 1., 1., 1.,\n",
       "        4., 0., 3., 2., 1., 5., 3., 2., 2., 2., 1., 4., 1., 2., 2., 5., 3.,\n",
       "        3., 4., 4., 1., 1., 1., 1., 2., 2., 2., 1., 3., 2., 2., 1., 1., 5.,\n",
       "        3., 1., 2., 1., 3., 2., 2., 4., 3., 4., 4., 2., 1., 1., 2., 3., 1.,\n",
       "        3., 1., 1., 2., 1., 1., 0., 1., 1., 1., 2., 4., 0., 0., 1., 3., 2.,\n",
       "        0., 0., 1., 0., 0., 1., 1., 0., 0., 1., 1., 1., 1., 0., 0., 1., 0.,\n",
       "        0., 0., 0., 0., 0., 0., 0., 2., 0., 1., 1., 0., 0., 0., 0., 0., 1.,\n",
       "        0., 0., 2., 1., 2., 0., 0., 1., 2., 0., 0., 0., 0., 1., 1., 0., 0.,\n",
       "        0., 0., 0., 0., 0., 0., 0., 0., 0., 0., 1., 0., 1., 0., 0., 0., 0.,\n",
       "        0., 0., 0., 0., 0., 0., 0., 1., 0., 0., 0., 0., 0., 0., 0., 1., 0.,\n",
       "        0., 0., 0., 0., 0., 0., 0., 0., 0., 0., 0., 0., 0., 0., 0., 0., 0.,\n",
       "        0., 0., 0., 0., 0., 0., 1., 0., 0., 0., 0., 0., 0., 0., 0., 0., 0.,\n",
       "        0., 0., 0., 0., 0., 0., 0., 0., 0., 0., 0., 0., 0., 0., 0., 0., 0.,\n",
       "        0., 0., 0., 0., 1., 0., 0., 0., 0., 0., 0., 0., 0., 0., 1., 0., 0.,\n",
       "        0., 0., 0., 0., 0., 0., 0., 0., 0., 0., 0., 0., 0., 0., 0., 0., 0.,\n",
       "        0., 0., 0., 0., 0., 0., 0., 1., 0., 0., 0., 0., 0., 0., 0., 0., 0.,\n",
       "        0., 0., 0., 0., 0., 0., 0., 1., 0., 0., 0., 0., 0.]),\n",
       " array([-700, -699, -698, -697, -696, -695, -694, -693, -692, -691, -690,\n",
       "        -689, -688, -687, -686, -685, -684, -683, -682, -681, -680, -679,\n",
       "        -678, -677, -676, -675, -674, -673, -672, -671, -670, -669, -668,\n",
       "        -667, -666, -665, -664, -663, -662, -661, -660, -659, -658, -657,\n",
       "        -656, -655, -654, -653, -652, -651, -650, -649, -648, -647, -646,\n",
       "        -645, -644, -643, -642, -641, -640, -639, -638, -637, -636, -635,\n",
       "        -634, -633, -632, -631, -630, -629, -628, -627, -626, -625, -624,\n",
       "        -623, -622, -621, -620, -619, -618, -617, -616, -615, -614, -613,\n",
       "        -612, -611, -610, -609, -608, -607, -606, -605, -604, -603, -602,\n",
       "        -601, -600, -599, -598, -597, -596, -595, -594, -593, -592, -591,\n",
       "        -590, -589, -588, -587, -586, -585, -584, -583, -582, -581, -580,\n",
       "        -579, -578, -577, -576, -575, -574, -573, -572, -571, -570, -569,\n",
       "        -568, -567, -566, -565, -564, -563, -562, -561, -560, -559, -558,\n",
       "        -557, -556, -555, -554, -553, -552, -551, -550, -549, -548, -547,\n",
       "        -546, -545, -544, -543, -542, -541, -540, -539, -538, -537, -536,\n",
       "        -535, -534, -533, -532, -531, -530, -529, -528, -527, -526, -525,\n",
       "        -524, -523, -522, -521, -520, -519, -518, -517, -516, -515, -514,\n",
       "        -513, -512, -511, -510, -509, -508, -507, -506, -505, -504, -503,\n",
       "        -502, -501, -500, -499, -498, -497, -496, -495, -494, -493, -492,\n",
       "        -491, -490, -489, -488, -487, -486, -485, -484, -483, -482, -481,\n",
       "        -480, -479, -478, -477, -476, -475, -474, -473, -472, -471, -470,\n",
       "        -469, -468, -467, -466, -465, -464, -463, -462, -461, -460, -459,\n",
       "        -458, -457, -456, -455, -454, -453, -452, -451, -450, -449, -448,\n",
       "        -447, -446, -445, -444, -443, -442, -441, -440, -439, -438, -437,\n",
       "        -436, -435, -434, -433, -432, -431, -430, -429, -428, -427, -426,\n",
       "        -425, -424, -423, -422, -421, -420, -419, -418, -417, -416, -415,\n",
       "        -414, -413, -412, -411, -410, -409, -408, -407, -406, -405, -404,\n",
       "        -403, -402, -401, -400, -399, -398, -397, -396, -395, -394, -393,\n",
       "        -392, -391, -390, -389, -388, -387, -386, -385, -384, -383, -382,\n",
       "        -381, -380, -379, -378, -377, -376, -375, -374, -373, -372, -371,\n",
       "        -370, -369, -368, -367, -366, -365, -364, -363, -362, -361, -360,\n",
       "        -359, -358, -357, -356, -355, -354, -353, -352, -351, -350, -349,\n",
       "        -348, -347, -346, -345, -344, -343, -342, -341, -340, -339, -338,\n",
       "        -337, -336, -335, -334, -333, -332, -331, -330, -329, -328, -327,\n",
       "        -326, -325, -324, -323, -322, -321, -320, -319, -318, -317, -316,\n",
       "        -315, -314, -313, -312, -311, -310, -309, -308, -307, -306, -305,\n",
       "        -304, -303, -302, -301, -300, -299, -298, -297, -296, -295, -294,\n",
       "        -293, -292, -291, -290, -289, -288, -287, -286, -285, -284, -283,\n",
       "        -282, -281, -280, -279, -278, -277, -276, -275, -274, -273, -272,\n",
       "        -271, -270, -269, -268, -267, -266, -265, -264, -263, -262, -261,\n",
       "        -260, -259, -258, -257, -256, -255, -254, -253, -252, -251, -250,\n",
       "        -249, -248, -247, -246, -245, -244, -243, -242, -241, -240, -239,\n",
       "        -238, -237, -236, -235, -234, -233, -232, -231, -230, -229, -228,\n",
       "        -227, -226, -225, -224, -223, -222, -221, -220, -219, -218, -217,\n",
       "        -216, -215, -214, -213, -212, -211, -210, -209, -208, -207, -206,\n",
       "        -205, -204, -203, -202, -201, -200, -199, -198, -197, -196, -195,\n",
       "        -194, -193, -192, -191, -190, -189, -188, -187, -186, -185, -184,\n",
       "        -183, -182, -181, -180, -179, -178, -177, -176, -175, -174, -173,\n",
       "        -172, -171, -170, -169, -168, -167, -166, -165, -164, -163, -162,\n",
       "        -161, -160, -159, -158, -157, -156, -155, -154, -153, -152, -151,\n",
       "        -150, -149, -148, -147, -146, -145, -144, -143, -142, -141, -140,\n",
       "        -139, -138, -137, -136, -135, -134, -133, -132, -131, -130, -129,\n",
       "        -128, -127, -126, -125, -124, -123, -122, -121, -120, -119, -118,\n",
       "        -117, -116, -115, -114, -113, -112, -111, -110, -109, -108, -107,\n",
       "        -106, -105, -104, -103, -102, -101, -100,  -99,  -98,  -97,  -96,\n",
       "         -95,  -94,  -93,  -92,  -91,  -90,  -89,  -88,  -87,  -86,  -85,\n",
       "         -84,  -83,  -82,  -81,  -80,  -79,  -78,  -77,  -76,  -75,  -74,\n",
       "         -73,  -72,  -71,  -70,  -69,  -68,  -67,  -66,  -65,  -64,  -63,\n",
       "         -62,  -61,  -60,  -59,  -58,  -57,  -56,  -55,  -54,  -53,  -52,\n",
       "         -51,  -50,  -49,  -48,  -47,  -46,  -45,  -44,  -43,  -42,  -41,\n",
       "         -40,  -39,  -38,  -37,  -36,  -35,  -34,  -33,  -32,  -31,  -30,\n",
       "         -29,  -28,  -27,  -26,  -25,  -24,  -23,  -22,  -21,  -20,  -19,\n",
       "         -18,  -17,  -16,  -15,  -14,  -13,  -12,  -11,  -10,   -9,   -8,\n",
       "          -7,   -6,   -5,   -4,   -3,   -2,   -1,    0,    1,    2,    3,\n",
       "           4,    5,    6,    7,    8,    9,   10,   11,   12,   13,   14,\n",
       "          15,   16,   17,   18,   19,   20,   21,   22,   23,   24,   25,\n",
       "          26,   27,   28,   29,   30,   31,   32,   33,   34,   35,   36,\n",
       "          37,   38,   39,   40,   41,   42,   43,   44,   45,   46,   47,\n",
       "          48,   49,   50,   51,   52,   53,   54,   55,   56,   57,   58,\n",
       "          59,   60,   61,   62,   63,   64,   65,   66,   67,   68,   69,\n",
       "          70,   71,   72,   73,   74,   75,   76,   77,   78,   79,   80,\n",
       "          81,   82,   83,   84,   85,   86,   87,   88,   89,   90,   91,\n",
       "          92,   93,   94,   95,   96,   97,   98,   99,  100,  101,  102,\n",
       "         103,  104,  105,  106,  107,  108,  109,  110,  111,  112,  113,\n",
       "         114,  115,  116,  117,  118,  119,  120,  121,  122,  123,  124,\n",
       "         125,  126,  127,  128,  129,  130,  131,  132,  133,  134,  135,\n",
       "         136,  137,  138,  139,  140,  141,  142,  143,  144,  145,  146,\n",
       "         147,  148,  149,  150,  151,  152,  153,  154,  155,  156,  157,\n",
       "         158,  159,  160,  161,  162,  163,  164,  165,  166,  167,  168,\n",
       "         169,  170,  171,  172,  173,  174,  175,  176,  177,  178,  179,\n",
       "         180,  181,  182,  183,  184,  185,  186,  187,  188,  189,  190,\n",
       "         191,  192,  193,  194,  195,  196,  197,  198,  199,  200,  201,\n",
       "         202,  203,  204,  205,  206,  207,  208,  209,  210,  211,  212,\n",
       "         213,  214,  215,  216,  217,  218,  219,  220,  221,  222,  223,\n",
       "         224,  225,  226,  227,  228,  229,  230,  231,  232,  233,  234,\n",
       "         235,  236,  237,  238,  239,  240,  241,  242,  243,  244,  245,\n",
       "         246,  247,  248,  249,  250,  251,  252,  253,  254,  255,  256,\n",
       "         257,  258,  259,  260,  261,  262,  263,  264,  265,  266,  267,\n",
       "         268,  269,  270,  271,  272,  273,  274,  275,  276,  277,  278,\n",
       "         279,  280,  281,  282,  283,  284,  285,  286,  287,  288,  289,\n",
       "         290,  291,  292,  293,  294,  295,  296,  297,  298,  299]),\n",
       " <a list of 999 Patch objects>)"
      ]
     },
     "execution_count": 12,
     "metadata": {},
     "output_type": "execute_result"
    },
    {
     "data": {
      "image/png": "[encoded data removed]",
      "text/plain": [
       "<Figure size 432x288 with 1 Axes>"
      ]
     },
     "metadata": {
      "needs_background": "light"
     },
     "output_type": "display_data"
    }
   ],
   "source": [
    "bins = np.arange(-700, 300, 1)\n",
    "\n",
    "plt.hist(delta, bins=bins)\n",
    "#plt.hist(delta)"
   ]
  },
  {
   "cell_type": "code",
   "execution_count": 13,
   "metadata": {},
   "outputs": [
    {
     "data": {
      "text/plain": [
       "Text(0.5,1,'臺灣家犬累積')"
      ]
     },
     "execution_count": 13,
     "metadata": {},
     "output_type": "execute_result"
    },
    {
     "data": {
      "image/png": "[encoded data removed]",
      "text/plain": [
       "<Figure size 432x288 with 2 Axes>"
      ]
     },
     "metadata": {
      "needs_background": "light"
     },
     "output_type": "display_data"
    }
   ],
   "source": [
    "from scipy import stats\n",
    "density = stats.kde.gaussian_kde(delta)\n",
    "\n",
    "plt.subplot(211)\n",
    "plt.plot(bins, density(bins))\n",
    "plt.title(\"臺灣家犬\")\n",
    "plt.subplot(212)\n",
    "plt.plot(bins, density(bins).cumsum())\n",
    "plt.title(\"臺灣家犬累積\")\n"
   ]
  },
  {
   "cell_type": "code",
   "execution_count": 38,
   "metadata": {},
   "outputs": [
    {
     "data": {
      "text/plain": [
       "[<matplotlib.lines.Line2D at 0x7eff03187978>]"
      ]
     },
     "execution_count": 38,
     "metadata": {},
     "output_type": "execute_result"
    },
    {
     "data": {
      "image/png": "[encoded data removed]",
      "text/plain": [
       "<Figure size 432x288 with 2 Axes>"
      ]
     },
     "metadata": {
      "needs_background": "light"
     },
     "output_type": "display_data"
    }
   ],
   "source": [
    "import matplotlib.axes as axes\n",
    "\n",
    "\n",
    "bins = np.arange(-10, 10, 0.01)\n",
    "\n",
    "norm = np.random.normal(size = 1000)\n",
    "fig, ax1 = plt.subplots()\n",
    "color = 'tab:red'\n",
    "ax1.hist(norm, bins, color=color)\n",
    "\n",
    "ax2 = ax1.twinx()\n",
    "color = 'tab:green'\n",
    "density = stats.kde.gaussian_kde(norm)\n",
    "ax2.plot(bins, density(bins), color=color)\n"
   ]
  },
  {
   "cell_type": "code",
   "execution_count": 50,
   "metadata": {},
   "outputs": [
    {
     "name": "stdout",
     "output_type": "stream",
     "text": [
      "[0.39794693] [0.41606349]\n"
     ]
    }
   ],
   "source": [
    "print(density(0.1), density(-0.1))"
   ]
  },
  {
   "cell_type": "code",
   "execution_count": null,
   "metadata": {},
   "outputs": [],
   "source": [
    "# https://stackoverflow.com/questions/9103166/multiple-axis-in-matplotlib-with-different-scales\n",
    "# multiple axis in matplotlib with different scales"
   ]
  },
  {
   "cell_type": "code",
   "execution_count": null,
   "metadata": {},
   "outputs": [],
   "source": []
  },
  {
   "cell_type": "code",
   "execution_count": null,
   "metadata": {},
   "outputs": [],
   "source": []
  },
  {
   "cell_type": "code",
   "execution_count": null,
   "metadata": {},
   "outputs": [],
   "source": []
  },
  {
   "cell_type": "code",
   "execution_count": null,
   "metadata": {},
   "outputs": [],
   "source": []
  },
  {
   "cell_type": "code",
   "execution_count": null,
   "metadata": {},
   "outputs": [],
   "source": []
  },
  {
   "cell_type": "code",
   "execution_count": null,
   "metadata": {},
   "outputs": [],
   "source": []
  },
  {
   "cell_type": "code",
   "execution_count": null,
   "metadata": {},
   "outputs": [],
   "source": []
  },
  {
   "cell_type": "code",
   "execution_count": null,
   "metadata": {},
   "outputs": [],
   "source": []
  },
  {
   "cell_type": "code",
   "execution_count": null,
   "metadata": {},
   "outputs": [],
   "source": []
  },
  {
   "cell_type": "code",
   "execution_count": null,
   "metadata": {},
   "outputs": [],
   "source": []
  },
  {
   "cell_type": "code",
   "execution_count": null,
   "metadata": {},
   "outputs": [],
   "source": []
  },
  {
   "cell_type": "code",
   "execution_count": null,
   "metadata": {},
   "outputs": [],
   "source": []
  },
  {
   "cell_type": "code",
   "execution_count": null,
   "metadata": {},
   "outputs": [],
   "source": []
  },
  {
   "cell_type": "code",
   "execution_count": null,
   "metadata": {},
   "outputs": [],
   "source": []
  },
  {
   "cell_type": "code",
   "execution_count": null,
   "metadata": {},
   "outputs": [],
   "source": []
  }
 ],
 "metadata": {
  "kernelspec": {
   "display_name": "Python 3",
   "language": "python",
   "name": "python3"
  },
  "language_info": {
   "codemirror_mode": {
    "name": "ipython",
    "version": 3
   },
   "file_extension": ".py",
   "mimetype": "text/x-python",
   "name": "python",
   "nbconvert_exporter": "python",
   "pygments_lexer": "ipython3",
   "version": "3.7.0"
  }
 },
 "nbformat": 4,
 "nbformat_minor": 2
}
