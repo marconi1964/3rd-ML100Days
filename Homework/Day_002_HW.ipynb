{
 "cells": [
  {
   "cell_type": "markdown",
   "metadata": {},
   "source": [
    "## [作業目標]\n",
    "了解機器學習適合應用的領域與範疇。"
   ]
  },
  {
   "cell_type": "markdown",
   "metadata": {},
   "source": [
    "## [作業重點]\n",
    "透過瞭解機器學習的運作方式，找出非常適用機器學習應用的領域及其原因\n",
    "\n",
    "適用機器學習應用的領域, 需要可以將應用歸納出規則及條件, 而不需給出特殊條件. 如：郵遞區號辨識、車牌辨識. 此類辨識是基於有限英數字組合(0-9, A-Z, ‘-’)而成之影像辨識, 同一個影像中的字型大小一致, 除非髒污情形嚴重, 機器學習可以容易辨識固定間距的文數字."
   ]
  },
  {
   "cell_type": "markdown",
   "metadata": {},
   "source": [
    "## 作業\n",
    "請找出一個你認為機器學習可以發光發熱的領域並闡述原因? \n",
    "\n",
    "機器學習可以發光發熱的領域是可以一次 training, 大量部署做 inference 的應用. Edge 邊緣運算就是其中之一. 最近很熱門的自動駕駛就是一個應用, 大陸將 camera 影像監視器加上人臉辨識也是最近熱門的技術趨勢. 尤其是 5G 電信網路也開始營運, 讓 Edge 運算所需 last mile 的 bandwidth 更寬, latency 低至毫秒, 可以提供在高速的應用, 如手機遊戲, 加上機器學習, 讓手機遊戲在連線遊戲上更有互動性, 提高使用者更刺激的遊戲體驗。"
   ]
  }
 ],
 "metadata": {
  "kernelspec": {
   "display_name": "Python 3",
   "language": "python",
   "name": "python3"
  },
  "language_info": {
   "codemirror_mode": {
    "name": "ipython",
    "version": 3
   },
   "file_extension": ".py",
   "mimetype": "text/x-python",
   "name": "python",
   "nbconvert_exporter": "python",
   "pygments_lexer": "ipython3",
   "version": "3.7.1"
  }
 },
 "nbformat": 4,
 "nbformat_minor": 2
}
